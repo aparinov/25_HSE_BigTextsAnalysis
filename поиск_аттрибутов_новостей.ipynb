{
  "nbformat": 4,
  "nbformat_minor": 0,
  "metadata": {
    "colab": {
      "provenance": []
    },
    "kernelspec": {
      "name": "python3",
      "display_name": "Python 3"
    },
    "language_info": {
      "name": "python"
    }
  },
  "cells": [
    {
      "cell_type": "code",
      "execution_count": null,
      "metadata": {
        "id": "eF8-p17l8mGs"
      },
      "outputs": [],
      "source": [
        "def filter_by_time(df, time_str=\"17:38\", window_min=5):\n",
        "    df[\"publish_date\"] = pd.to_datetime(df[\"publish_date\"])\n",
        "    df[\"publish_date\"] = df[\"publish_date\"].dt.tz_localize(None)\n",
        "    target_date = df[\"publish_date\"].dt.date.iloc[0]\n",
        "    target_time = datetime.strptime(f\"{target_date} {time_str}\", \"%Y-%m-%d %H:%M\")\n",
        "\n",
        "    delta = (df[\"publish_date\"] - target_time).abs()\n",
        "    return df[delta <= timedelta(minutes=window_min)].sort_values(\"publish_date\")\n"
      ]
    },
    {
      "cell_type": "code",
      "source": [
        "import requests\n",
        "import pandas as pd\n",
        "from datetime import datetime, timedelta\n",
        "\n",
        "def fetch_all_articles_for_date(target_date: str):\n",
        "    url = \"https://www.rbc.ru/search/ajax/\"\n",
        "    all_articles = []\n",
        "    page = 0\n",
        "\n",
        "    while True:\n",
        "        params = {\n",
        "            \"project\": \"rbcnews\",\n",
        "            \"category\": \"\",\n",
        "            \"dateFrom\": target_date,\n",
        "            \"dateTo\": target_date,\n",
        "            \"page\": page,\n",
        "            \"query\": \"\",\n",
        "            \"material\": \"article\"\n",
        "        }\n",
        "\n",
        "        response = requests.get(url, params=params)\n",
        "        data = response.json()\n",
        "\n",
        "        items = data.get(\"items\", [])\n",
        "        if not items:\n",
        "            break\n",
        "\n",
        "        all_articles.extend(items)\n",
        "        page += 1\n",
        "\n",
        "    return pd.DataFrame(all_articles)\n",
        "\n",
        "def filter_by_time(df, time_str=\"17:38\", window_min=5):\n",
        "    df[\"publish_date\"] = pd.to_datetime(df[\"publish_date\"])\n",
        "    df[\"publish_date\"] = df[\"publish_date\"].dt.tz_localize(None)\n",
        "\n",
        "    target_date = df[\"publish_date\"].dt.date.iloc[0]\n",
        "    target_time = datetime.strptime(f\"{target_date} {time_str}\", \"%Y-%m-%d %H:%M\")\n",
        "\n",
        "    delta = (df[\"publish_date\"] - target_time).abs()\n",
        "    return df[delta <= timedelta(minutes=window_min)].sort_values(\"publish_date\")\n",
        "\n",
        "target_date = \"11.04.2025\"\n",
        "target_time_str = \"17:38\"\n",
        "\n",
        "df_all = fetch_all_articles_for_date(target_date)\n",
        "\n",
        "if df_all.empty:\n",
        "    print(\"Нет статей за эту дату.\")\n",
        "else:\n",
        "    df_filtered = filter_by_time(df_all, time_str=target_time_str, window_min=5)\n",
        "    if df_filtered.empty:\n",
        "        print(\"Нет статей около указанного времени.\")\n",
        "    else:\n",
        "        print(df_filtered[[\"title\", \"publish_date\", \"fronturl\"]])\n"
      ],
      "metadata": {
        "colab": {
          "base_uri": "https://localhost:8080/"
        },
        "id": "m3Pn4fC58m2R",
        "outputId": "13c6a9ee-8d90-4170-d858-296c0ca56e89"
      },
      "execution_count": null,
      "outputs": [
        {
          "output_type": "stream",
          "name": "stdout",
          "text": [
            "                                                title        publish_date  \\\n",
            "57  ЦБ выявил мошенническую схему с использованием... 2025-04-11 17:37:26   \n",
            "56             Что известно о ядерной программе Ирана 2025-04-11 17:38:11   \n",
            "55  Началась встреча Путина со спецпосланником Тра... 2025-04-11 17:42:39   \n",
            "\n",
            "                                             fronturl  \n",
            "57  https://www.rbc.ru/rbcfreenews/67f91f8f9a79470...  \n",
            "56  https://www.rbc.ru/base/11/04/2025/67f79a959a7...  \n",
            "55  https://www.rbc.ru/rbcfreenews/67f922979a7947e...  \n"
          ]
        }
      ]
    },
    {
      "cell_type": "code",
      "source": [
        "import json\n",
        "\n",
        "for _, row in df_filtered.iterrows():\n",
        "    record = row.to_dict()\n",
        "\n",
        "    for key, value in record.items():\n",
        "        if isinstance(value, pd.Timestamp):\n",
        "            record[key] = value.isoformat()\n",
        "\n",
        "    print(json.dumps(record, ensure_ascii=False, indent=2))"
      ],
      "metadata": {
        "colab": {
          "base_uri": "https://localhost:8080/"
        },
        "id": "BezYZX_39Zdv",
        "outputId": "de711429-1b58-4a05-e2d7-9e6e8457da59"
      },
      "execution_count": null,
      "outputs": [
        {
          "output_type": "stream",
          "name": "stdout",
          "text": [
            "{\n",
            "  \"id\": \"67f91f8f9a794704f0ebd0e2\",\n",
            "  \"project\": \"РБК\",\n",
            "  \"project_nick\": \"rbcnews\",\n",
            "  \"type\": \"short_news\",\n",
            "  \"category\": \"Финансы\",\n",
            "  \"title\": \"ЦБ выявил мошенническую схему с использованием цифровых рублей\",\n",
            "  \"body\": \"\",\n",
            "  \"publish_date\": \"2025-04-11T17:37:26\",\n",
            "  \"publish_date_t\": 1744382246,\n",
            "  \"fronturl\": \"https://www.rbc.ru/rbcfreenews/67f91f8f9a794704f0ebd0e2\",\n",
            "  \"picture\": \"https://s0.rbk.ru/v6_top_pics/media/img/1/84/347443800318841.jpeg\",\n",
            "  \"badge\": null,\n",
            "  \"pay_option\": \"free\",\n",
            "  \"data\": null,\n",
            "  \"_score\": 0\n",
            "}\n",
            "{\n",
            "  \"id\": \"67f79a959a79473eebee8d50\",\n",
            "  \"project\": \"РБК\",\n",
            "  \"project_nick\": \"rbcnews\",\n",
            "  \"type\": \"article\",\n",
            "  \"category\": \"База знаний\",\n",
            "  \"title\": \"Что известно о ядерной программе Ирана\",\n",
            "  \"body\": \"\",\n",
            "  \"publish_date\": \"2025-04-11T17:38:11\",\n",
            "  \"publish_date_t\": 1744382291,\n",
            "  \"fronturl\": \"https://www.rbc.ru/base/11/04/2025/67f79a959a79473eebee8d50\",\n",
            "  \"picture\": \"https://s0.rbk.ru/v6_top_pics/media/img/1/60/347443764413601.jpeg\",\n",
            "  \"badge\": null,\n",
            "  \"pay_option\": \"free\",\n",
            "  \"data\": null,\n",
            "  \"_score\": 0\n",
            "}\n",
            "{\n",
            "  \"id\": \"67f922979a7947ee01587723\",\n",
            "  \"project\": \"РБК\",\n",
            "  \"project_nick\": \"rbcnews\",\n",
            "  \"type\": \"short_news\",\n",
            "  \"category\": \"Политика\",\n",
            "  \"title\": \"Началась встреча Путина со спецпосланником Трампа Уиткоффом\",\n",
            "  \"body\": \"В Петербурге началась встреча Путина со спецпосланником Трампа Уиткоффом. Он прилетел в город утром и успел провести встречу с Кириллом Дмитриевым, посетить синагогу и Исаакиевский храм\",\n",
            "  \"publish_date\": \"2025-04-11T17:42:39\",\n",
            "  \"publish_date_t\": 1744382559,\n",
            "  \"fronturl\": \"https://www.rbc.ru/rbcfreenews/67f922979a7947ee01587723\",\n",
            "  \"picture\": \"https://s0.rbk.ru/v6_top_pics/media/img/8/15/347443826878158.jpeg\",\n",
            "  \"badge\": null,\n",
            "  \"pay_option\": \"free\",\n",
            "  \"data\": null,\n",
            "  \"_score\": 0\n",
            "}\n"
          ]
        }
      ]
    },
    {
      "cell_type": "code",
      "source": [],
      "metadata": {
        "id": "u6PPrwYk-EEG"
      },
      "execution_count": null,
      "outputs": []
    }
  ]
}