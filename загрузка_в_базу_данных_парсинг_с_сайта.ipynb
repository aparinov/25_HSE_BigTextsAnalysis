{
  "nbformat": 4,
  "nbformat_minor": 0,
  "metadata": {
    "colab": {
      "provenance": []
    },
    "kernelspec": {
      "name": "python3",
      "display_name": "Python 3"
    },
    "language_info": {
      "name": "python"
    }
  },
  "cells": [
    {
      "cell_type": "code",
      "source": [
        "import pandas as pd"
      ],
      "metadata": {
        "id": "D93L5I8qw_P9"
      },
      "execution_count": 1,
      "outputs": []
    },
    {
      "cell_type": "code",
      "source": [
        "pip install psycopg2-binary"
      ],
      "metadata": {
        "colab": {
          "base_uri": "https://localhost:8080/"
        },
        "id": "DTij_6VrkXRk",
        "outputId": "8e480a5c-cc6c-476a-e637-71bf4b2f4192"
      },
      "execution_count": 2,
      "outputs": [
        {
          "output_type": "stream",
          "name": "stdout",
          "text": [
            "Collecting psycopg2-binary\n",
            "  Downloading psycopg2_binary-2.9.10-cp311-cp311-manylinux_2_17_x86_64.manylinux2014_x86_64.whl.metadata (4.9 kB)\n",
            "Downloading psycopg2_binary-2.9.10-cp311-cp311-manylinux_2_17_x86_64.manylinux2014_x86_64.whl (3.0 MB)\n",
            "\u001b[?25l   \u001b[90m━━━━━━━━━━━━━━━━━━━━━━━━━━━━━━━━━━━━━━━━\u001b[0m \u001b[32m0.0/3.0 MB\u001b[0m \u001b[31m?\u001b[0m eta \u001b[36m-:--:--\u001b[0m\r\u001b[2K   \u001b[91m━\u001b[0m\u001b[91m╸\u001b[0m\u001b[90m━━━━━━━━━━━━━━━━━━━━━━━━━━━━━━━━━━━━━━\u001b[0m \u001b[32m0.1/3.0 MB\u001b[0m \u001b[31m3.7 MB/s\u001b[0m eta \u001b[36m0:00:01\u001b[0m\r\u001b[2K   \u001b[91m━━━━━━━━\u001b[0m\u001b[91m╸\u001b[0m\u001b[90m━━━━━━━━━━━━━━━━━━━━━━━━━━━━━━━\u001b[0m \u001b[32m0.7/3.0 MB\u001b[0m \u001b[31m10.2 MB/s\u001b[0m eta \u001b[36m0:00:01\u001b[0m\r\u001b[2K   \u001b[91m━━━━━━━━━━━━━━━━━━━━━━━━━━━━━━━━━━━━━━━\u001b[0m\u001b[91m╸\u001b[0m \u001b[32m3.0/3.0 MB\u001b[0m \u001b[31m29.5 MB/s\u001b[0m eta \u001b[36m0:00:01\u001b[0m\r\u001b[2K   \u001b[90m━━━━━━━━━━━━━━━━━━━━━━━━━━━━━━━━━━━━━━━━\u001b[0m \u001b[32m3.0/3.0 MB\u001b[0m \u001b[31m25.4 MB/s\u001b[0m eta \u001b[36m0:00:00\u001b[0m\n",
            "\u001b[?25hInstalling collected packages: psycopg2-binary\n",
            "Successfully installed psycopg2-binary-2.9.10\n"
          ]
        }
      ]
    },
    {
      "cell_type": "code",
      "source": [
        "df = pd.read_excel(\"parsed_data_new_balanced.xlsx\")\n",
        "print(f\"📊 Прочитано строк: {len(df)}\")\n",
        "\n",
        "# ---------- Приводим publish_date к дате ----------\n",
        "df['publish_date'] = pd.to_datetime(df['publish_date'], errors='coerce')\n",
        "\n",
        "print(\"Количество пустых дат:\", df['publish_date'].isna().sum())\n",
        "\n",
        "# ---------- Проверка нужных колонок ----------\n",
        "required_columns = ['project', 'type', 'category', 'title', 'publish_date',\n",
        "                    'fronturl', 'picture', 'overview', 'text']\n",
        "\n",
        "if not all(col in df.columns for col in required_columns):\n",
        "    raise ValueError(\"❌ В Excel–файле отсутствуют необходимые колонки.\")\n",
        "\n",
        "# ---------- Преобразование DataFrame в список словарей ----------\n",
        "parsed_messages = df.where(pd.notnull(df), None).to_dict(orient='records')"
      ],
      "metadata": {
        "colab": {
          "base_uri": "https://localhost:8080/"
        },
        "id": "PS_iXQbJ1Sj5",
        "outputId": "b6fd1345-77b9-45e7-fdba-b168f241dc04"
      },
      "execution_count": 8,
      "outputs": [
        {
          "output_type": "stream",
          "name": "stdout",
          "text": [
            "📊 Прочитано строк: 29334\n",
            "Количество пустых дат: 1\n"
          ]
        }
      ]
    },
    {
      "cell_type": "code",
      "source": [
        "df = df[df['publish_date'].notna()]"
      ],
      "metadata": {
        "id": "ECmSQwj41z4h"
      },
      "execution_count": 10,
      "outputs": []
    },
    {
      "cell_type": "code",
      "source": [
        "print(\"Количество пустых дат:\", df['publish_date'].isna().sum())"
      ],
      "metadata": {
        "colab": {
          "base_uri": "https://localhost:8080/"
        },
        "id": "8dywpz-013sB",
        "outputId": "59fae8fa-d56b-4a59-9c55-c92ba09fb8bc"
      },
      "execution_count": 11,
      "outputs": [
        {
          "output_type": "stream",
          "name": "stdout",
          "text": [
            "Количество пустых дат: 0\n"
          ]
        }
      ]
    },
    {
      "cell_type": "code",
      "source": [
        "import psycopg2\n",
        "from psycopg2.extras import execute_values\n",
        "\n",
        "# ---------- 1. Параметры подключения к БД ----------\n",
        "db_config = {\n",
        "    'host': '77.37.164.38',\n",
        "    'port': 5433,\n",
        "    'dbname': 'amina',\n",
        "    'user': 'amina',\n",
        "    'password': '12345'\n",
        "}\n",
        "\n",
        "# ---------- 2. Функция подключения ----------\n",
        "def init_db():\n",
        "    conn = psycopg2.connect(**db_config)\n",
        "    cursor = conn.cursor()\n",
        "    return conn, cursor\n",
        "\n",
        "# ---------- 3. Функция для быстрой вставки ----------\n",
        "def insert_to_db(cursor, conn, data):\n",
        "    if not data:\n",
        "        print(\"Нет данных для записи в БД.\")\n",
        "        return\n",
        "\n",
        "    values = [\n",
        "        (\n",
        "            item['project'],\n",
        "            item['type'],\n",
        "            item['category'],\n",
        "            item['title'],\n",
        "            item['publish_date'],\n",
        "            item['fronturl'],\n",
        "            item['picture'],\n",
        "            item['overview'],\n",
        "            item['text']\n",
        "        )\n",
        "        for item in data\n",
        "    ]\n",
        "\n",
        "    insert_query = \"\"\"\n",
        "    INSERT INTO stg_news\n",
        "    (project, type, category, title, publish_date, fronturl, picture, overview, text)\n",
        "    VALUES %s\n",
        "    \"\"\"\n",
        "\n",
        "    execute_values(cursor, insert_query, values)\n",
        "    conn.commit()\n",
        "\n",
        "    print(f\"✅ Загружено {len(values)} записей.\")\n",
        "\n",
        "# ---------- 4. Проверка колонок в df ----------\n",
        "required_columns = ['project', 'type', 'category', 'title', 'publish_date',\n",
        "                    'fronturl', 'picture', 'overview', 'text']\n",
        "\n",
        "if not all(col in df.columns for col in required_columns):\n",
        "    raise ValueError(\"❌ В DataFrame отсутствуют необходимые колонки.\")\n",
        "\n",
        "# ---------- 5. Подготовка данных: заменяем NaN на None ----------\n",
        "parsed_messages = df.where(pd.notnull(df), None).to_dict(orient='records')\n",
        "\n",
        "# ---------- 6. Загрузка в базу ----------\n",
        "conn, cursor = init_db()\n",
        "insert_to_db(cursor, conn, parsed_messages)\n",
        "cursor.close()\n",
        "conn.close()\n",
        "\n",
        "print(\"✅ Все данные успешно загружены в stg_news.\")"
      ],
      "metadata": {
        "colab": {
          "base_uri": "https://localhost:8080/"
        },
        "id": "8bwE-CYp0sOY",
        "outputId": "e93a19be-6b88-4cf6-cfd8-7ab4630f59ff"
      },
      "execution_count": 12,
      "outputs": [
        {
          "output_type": "stream",
          "name": "stdout",
          "text": [
            "✅ Загружено 29333 записей.\n",
            "✅ Все данные успешно загружены в stg_news.\n"
          ]
        }
      ]
    },
    {
      "cell_type": "code",
      "source": [
        "import psycopg2\n",
        "import pandas as pd\n",
        "\n",
        "# ---------- 1. Параметры подключения ----------\n",
        "db_config = {\n",
        "    'host': '77.37.164.38',\n",
        "    'port': 5433,\n",
        "    'dbname': 'amina',\n",
        "    'user': 'amina',\n",
        "    'password': '12345'\n",
        "}\n",
        "\n",
        "# ---------- 2. Функция подключения ----------\n",
        "def init_db():\n",
        "    conn = psycopg2.connect(**db_config)\n",
        "    cursor = conn.cursor()\n",
        "    return conn, cursor\n",
        "\n",
        "# ---------- 3. Загружаем данные из базы ----------\n",
        "conn, cursor = init_db()\n",
        "\n",
        "# Пишем SQL-запрос (выбери нужные поля)\n",
        "query = \"SELECT project, type, category, title, publish_date FROM stg_news LIMIT 10;\"\n",
        "\n",
        "# Загружаем в DataFrame\n",
        "df_db = pd.read_sql_query(query, conn)\n",
        "\n",
        "cursor.close()\n",
        "conn.close()\n",
        "\n",
        "# ---------- 4. Смотрим результат ----------\n",
        "print(\"📋 Первые записи из базы:\")\n",
        "print(df_db)"
      ],
      "metadata": {
        "colab": {
          "base_uri": "https://localhost:8080/"
        },
        "id": "U50QcP_znvcn",
        "outputId": "d4d78b17-da1e-4fa3-8e72-89651bda4260"
      },
      "execution_count": 14,
      "outputs": [
        {
          "output_type": "stream",
          "name": "stderr",
          "text": [
            "<ipython-input-14-7d15a3c62318>:26: UserWarning: pandas only supports SQLAlchemy connectable (engine/connection) or database string URI or sqlite3 DBAPI2 connection. Other DBAPI2 objects are not tested. Please consider using SQLAlchemy.\n",
            "  df_db = pd.read_sql_query(query, conn)\n"
          ]
        },
        {
          "output_type": "stream",
          "name": "stdout",
          "text": [
            "📋 Первые записи из базы:\n",
            "    project        type            category  \\\n",
            "0  Autonews     article                Авто   \n",
            "1  Autonews  short_news                Авто   \n",
            "2  Autonews  short_news                Авто   \n",
            "3  Autonews  short_news                Авто   \n",
            "4  Autonews  short_news                Авто   \n",
            "5  Autonews     article                Авто   \n",
            "6  Autonews     article                Авто   \n",
            "7       РБК     article  Технологии и медиа   \n",
            "8       РБК  short_news            Общество   \n",
            "9  Autonews  short_news                Авто   \n",
            "\n",
            "                                               title        publish_date  \n",
            "0  Названы самые популярные иномарки с пробегом. ... 2025-01-10 14:14:15  \n",
            "1  Подержанные машины разонравились россиянам. Ры... 2025-01-08 13:09:19  \n",
            "2  Электрокарам продлили бесплатный проезд по «пл... 2025-01-17 14:34:10  \n",
            "3  Volkswagen обновил кроссовер Talagon. Найдите ... 2025-01-14 09:58:16  \n",
            "4  В России начали принимать заказы на кроссовер ... 2025-01-24 16:54:00  \n",
            "5  7 главных китайских электромобилей: история и ... 2025-01-23 21:25:54  \n",
            "6  Как заплатить налог с продажи авто в 2025 году... 2025-01-21 20:03:01  \n",
            "7     TikTok назвал условие продолжения работы в США 2025-01-18 09:46:56  \n",
            "8  Вильфанд предупредил три округа России о мороз... 2025-01-18 06:01:15  \n",
            "9  Стало известно, когда проезд по Мытищинской хо... 2025-01-21 15:56:41  \n"
          ]
        }
      ]
    },
    {
      "cell_type": "code",
      "source": [],
      "metadata": {
        "id": "aiMh9VIE4JI_"
      },
      "execution_count": null,
      "outputs": []
    }
  ]
}